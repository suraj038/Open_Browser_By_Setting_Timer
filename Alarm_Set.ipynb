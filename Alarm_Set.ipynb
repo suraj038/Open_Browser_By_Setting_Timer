{
 "cells": [
  {
   "cell_type": "code",
   "execution_count": null,
   "metadata": {},
   "outputs": [],
   "source": [
    "#Alarm set for work\n",
    "import time \n",
    "import webbrowser \n",
    "\n",
    "Set_Alarm = input(\"Set the website alarm as H:M:S:\") \n",
    "\n",
    "url = input(\"Enter the website you want to open:\") \n",
    "\n",
    "Actual_Time = time.strftime(\"%I:%M:%S\") \n",
    " \n",
    "while (Actual_Time != Set_Alarm): \n",
    "    print( \"The time is \" + Actual_Time )\n",
    "    Actual_Time = time.strftime(\"%I:%M:%S\") \n",
    "    time.sleep(1) \n",
    "\n",
    "if (Actual_Time == Set_Alarm): \n",
    "    print (\"You should see your webpage now :-)\")\n",
    "    webbrowser.open(url) \n"
   ]
  }
 ],
 "metadata": {
  "kernelspec": {
   "display_name": "Python 3",
   "language": "python",
   "name": "python3"
  },
  "language_info": {
   "codemirror_mode": {
    "name": "ipython",
    "version": 3
   },
   "file_extension": ".py",
   "mimetype": "text/x-python",
   "name": "python",
   "nbconvert_exporter": "python",
   "pygments_lexer": "ipython3",
   "version": "3.6.7"
  }
 },
 "nbformat": 4,
 "nbformat_minor": 2
}
